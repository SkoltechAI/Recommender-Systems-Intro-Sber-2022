{
 "cells": [
  {
   "cell_type": "markdown",
   "metadata": {},
   "source": [
    "# Setting up Colab environment"
   ]
  },
  {
   "cell_type": "code",
   "execution_count": null,
   "metadata": {},
   "outputs": [],
   "source": [
    "import os\n",
    "username = 'SkoltechAI'\n",
    "repo = 'Recommender-Systems-Intro-Sber-2022'\n",
    "\n",
    "# remove local directory if it already exists\n",
    "if os.path.isdir(repo):\n",
    "    !rm -rf {repo}\n",
    "\n",
    "!git clone https://github.com/{username}/{repo}.git"
   ]
  },
  {
   "cell_type": "code",
   "execution_count": null,
   "metadata": {},
   "outputs": [],
   "source": [
    "!git clone https://github.com/evfro/cofida.git\n",
    "!pip install --no-cache-dir --upgrade git+https://github.com/evfro/polara.git@develop#egg=polara"
   ]
  },
  {
   "cell_type": "code",
   "execution_count": 123,
   "metadata": {},
   "outputs": [],
   "source": [
    "from typing import List\n",
    "import pandas as pd\n",
    "import numpy as np\n",
    "from tqdm import tqdm\n",
    "\n",
    "import torch\n",
    "import torch.nn as nn\n",
    "import torch.nn.functional as F\n",
    "\n",
    "from polara import get_movielens_data\n",
    "from polara.preprocessing.dataframes import leave_one_out, reindex\n",
    "\n",
    "from cofida.datasets import observations_loader, UserBatchDataset\n",
    "\n",
    "# navigating to cloned repo directory in Colab\n",
    "%cd {repo} \n",
    "from dataprep import transform_indices, matrix_from_data\n",
    "from evaluation import topn_recommendations, model_evaluate, downvote_seen_items\n",
    "# restoring original location\n",
    "%cd -"
   ]
  },
  {
   "cell_type": "code",
   "execution_count": 28,
   "metadata": {},
   "outputs": [],
   "source": [
    "def fix_torch_seed(seed):\n",
    "    torch.manual_seed(seed)\n",
    "    torch.cuda.manual_seed_all(seed)"
   ]
  },
  {
   "cell_type": "markdown",
   "metadata": {},
   "source": [
    "# Preparing data"
   ]
  },
  {
   "cell_type": "code",
   "execution_count": 29,
   "metadata": {},
   "outputs": [],
   "source": [
    "mldata = get_movielens_data(include_time=True)"
   ]
  },
  {
   "cell_type": "code",
   "execution_count": 30,
   "metadata": {},
   "outputs": [],
   "source": [
    "test_timepoint = mldata['timestamp'].quantile(\n",
    "    q=0.95, interpolation='nearest'\n",
    ")"
   ]
  },
  {
   "cell_type": "code",
   "execution_count": 31,
   "metadata": {},
   "outputs": [],
   "source": [
    "test_data_ = mldata.query('timestamp >= @test_timepoint')"
   ]
  },
  {
   "cell_type": "code",
   "execution_count": 32,
   "metadata": {},
   "outputs": [
    {
     "data": {
      "text/plain": [
       "userid         813\n",
       "movieid       3249\n",
       "rating           5\n",
       "timestamp    33729\n",
       "dtype: int64"
      ]
     },
     "execution_count": 32,
     "metadata": {},
     "output_type": "execute_result"
    }
   ],
   "source": [
    "test_data_.nunique()"
   ]
  },
  {
   "cell_type": "code",
   "execution_count": 33,
   "metadata": {},
   "outputs": [],
   "source": [
    "train_data_ = mldata.query(\n",
    "    'userid not in @test_data_.userid.unique() and timestamp < @test_timepoint'\n",
    ")"
   ]
  },
  {
   "cell_type": "code",
   "execution_count": 34,
   "metadata": {},
   "outputs": [],
   "source": [
    "training, data_index = transform_indices(train_data_.copy(), 'userid', 'movieid')"
   ]
  },
  {
   "cell_type": "code",
   "execution_count": 35,
   "metadata": {},
   "outputs": [
    {
     "name": "stdout",
     "output_type": "stream",
     "text": [
      "Filtered 64 invalid observations.\n"
     ]
    }
   ],
   "source": [
    "test_data = reindex(test_data_, data_index['items'])"
   ]
  },
  {
   "cell_type": "code",
   "execution_count": 36,
   "metadata": {},
   "outputs": [
    {
     "data": {
      "text/plain": [
       "userid         813\n",
       "movieid       3220\n",
       "rating           5\n",
       "timestamp    33678\n",
       "dtype: int64"
      ]
     },
     "execution_count": 36,
     "metadata": {},
     "output_type": "execute_result"
    }
   ],
   "source": [
    "test_data.nunique()"
   ]
  },
  {
   "cell_type": "markdown",
   "metadata": {},
   "source": [
    "We sample the last item for each test user.  \n",
    "As all these users are excluded from the training, and training is additionally filtered by timestamp,\n",
    "there will be no \"recommendation from future\" issue - our model is unaware of future correlations.\n"
   ]
  },
  {
   "cell_type": "code",
   "execution_count": 37,
   "metadata": {},
   "outputs": [],
   "source": [
    "testset_, holdout_ = leave_one_out(\n",
    "    test_data, target='timestamp', sample_top=True, random_state=0\n",
    ")\n",
    "testset_valid_, holdout_valid_ = leave_one_out(\n",
    "    testset_, target='timestamp', sample_top=True, random_state=0\n",
    ")"
   ]
  },
  {
   "cell_type": "markdown",
   "metadata": {},
   "source": [
    "Let's focus on validation part."
   ]
  },
  {
   "cell_type": "code",
   "execution_count": 72,
   "metadata": {},
   "outputs": [
    {
     "data": {
      "text/plain": [
       "Int64Index([  20,   23,   36,   44,   59,   65,   74,   89,   90,   99,\n",
       "            ...\n",
       "            5956, 5972, 5991, 5995, 5996, 5998, 6001, 6002, 6016, 6040],\n",
       "           dtype='int64', length=750)"
      ]
     },
     "execution_count": 72,
     "metadata": {},
     "output_type": "execute_result"
    }
   ],
   "source": []
  },
  {
   "cell_type": "code",
   "execution_count": 83,
   "metadata": {},
   "outputs": [],
   "source": [
    "userid = data_index['users'].name\n",
    "test_users = pd.Index(\n",
    "    np.intersect1d(\n",
    "        testset_valid_[userid].unique(),\n",
    "        holdout_valid_[userid].unique()\n",
    "    )\n",
    ")\n",
    "testset_valid = (\n",
    "    testset_valid_\n",
    "    # reindex warm-start users for convenience\n",
    "    .assign(**{userid: lambda x: test_users.get_indexer(x[userid])})\n",
    "    .query(f'{userid} >= 0')\n",
    "    .sort_values('userid')\n",
    ")\n",
    "holdout_valid = (\n",
    "    holdout_valid_\n",
    "    # reindex warm-start users for convenience\n",
    "    .assign(**{userid: lambda x: test_users.get_indexer(x[userid])})\n",
    "    .query(f'{userid} >= 0')\n",
    "    .sort_values('userid')\n",
    ")"
   ]
  },
  {
   "cell_type": "code",
   "execution_count": 78,
   "metadata": {},
   "outputs": [
    {
     "data": {
      "text/plain": [
       "userid         750\n",
       "movieid       3202\n",
       "rating           5\n",
       "timestamp    32400\n",
       "dtype: int64"
      ]
     },
     "execution_count": 78,
     "metadata": {},
     "output_type": "execute_result"
    }
   ],
   "source": [
    "testset_valid.nunique()"
   ]
  },
  {
   "cell_type": "code",
   "execution_count": 79,
   "metadata": {},
   "outputs": [
    {
     "data": {
      "text/plain": [
       "(750, 4)"
      ]
     },
     "execution_count": 79,
     "metadata": {},
     "output_type": "execute_result"
    }
   ],
   "source": [
    "holdout_valid.shape"
   ]
  },
  {
   "cell_type": "code",
   "execution_count": 80,
   "metadata": {},
   "outputs": [],
   "source": [
    "assert holdout_valid.set_index('userid')['timestamp'].ge(\n",
    "    testset_valid\n",
    "    .groupby('userid')\n",
    "    ['timestamp'].max()\n",
    ").all()"
   ]
  },
  {
   "cell_type": "code",
   "execution_count": 81,
   "metadata": {},
   "outputs": [
    {
     "data": {
      "text/plain": [
       "{'users': 'userid',\n",
       " 'items': 'movieid',\n",
       " 'feedback': 'rating',\n",
       " 'n_users': 5227,\n",
       " 'n_items': 3652}"
      ]
     },
     "execution_count": 81,
     "metadata": {},
     "output_type": "execute_result"
    }
   ],
   "source": [
    "data_description = dict(\n",
    "    users = data_index['users'].name,\n",
    "    items = data_index['items'].name,\n",
    "    feedback = 'rating',\n",
    "    n_users = len(data_index['users']),\n",
    "    n_items = len(data_index['items']),\n",
    ")\n",
    "data_description"
   ]
  },
  {
   "cell_type": "markdown",
   "metadata": {},
   "source": [
    "# User-batch Dataloader"
   ]
  },
  {
   "cell_type": "markdown",
   "metadata": {},
   "source": [
    "Unlike the MF case, where you worked on a per observations sample in a batch, here you'll need to adapt to a per-user batch sampling strategy. You can write your on sampler, or reuse some predefined ones. Below is an example based on the `cofida` package. "
   ]
  },
  {
   "cell_type": "code",
   "execution_count": 42,
   "metadata": {},
   "outputs": [],
   "source": [
    "batch_size = 128"
   ]
  },
  {
   "cell_type": "code",
   "execution_count": 47,
   "metadata": {},
   "outputs": [],
   "source": [
    "train_loader = observations_loader(\n",
    "    observations = matrix_from_data(training, data_description),\n",
    "    batch_size = batch_size, # number of users in the batch\n",
    "    shuffle = True, # return user batches in random order\n",
    "    data_factory = UserBatchDataset,\n",
    "    sparse_batch = True  # can use .to_dense on a batch for calculations\n",
    ")"
   ]
  },
  {
   "cell_type": "code",
   "execution_count": 48,
   "metadata": {},
   "outputs": [
    {
     "data": {
      "text/plain": [
       "tensor(indices=tensor([[  32,   32,   32,  ...,  105,  105,  105],\n",
       "                       [   1,    6,    9,  ..., 3410, 3421, 3431]]),\n",
       "       values=tensor([1., 4., 4.,  ..., 3., 3., 5.]),\n",
       "       device='cuda:0', size=(128, 3652), nnz=17372, layout=torch.sparse_coo)"
      ]
     },
     "execution_count": 48,
     "metadata": {},
     "output_type": "execute_result"
    }
   ],
   "source": [
    "batch = next(iter(train_loader))\n",
    "batch"
   ]
  },
  {
   "cell_type": "markdown",
   "metadata": {},
   "source": [
    "# Single-layer Autoencoder"
   ]
  },
  {
   "cell_type": "code",
   "execution_count": 21,
   "metadata": {},
   "outputs": [],
   "source": [
    "class AutoEncoderSL(nn.Module):\n",
    "    def __init__(self, num_items, latent_dim, bias=True):\n",
    "        super().__init__()\n",
    "\n",
    "        self.encode = nn.Sequential(\n",
    "            nn.Linear(num_items, latent_dim, bias=bias),\n",
    "            nn.Tanh()\n",
    "        )\n",
    "        self.decode = nn.Linear(latent_dim, num_items, bias=bias)\n",
    "    \n",
    "    def forward(self, x):\n",
    "        return self.decode(self.encode(x))"
   ]
  },
  {
   "cell_type": "markdown",
   "metadata": {},
   "source": [
    "## Training"
   ]
  },
  {
   "cell_type": "code",
   "execution_count": 52,
   "metadata": {},
   "outputs": [],
   "source": [
    "def prepare_ae_model(config, data_description):\n",
    "    model = AutoEncoderSL(\n",
    "        data_description['n_items'],\n",
    "        config['dim']\n",
    "    )\n",
    "    # transfer model to GPU if available\n",
    "    device = None\n",
    "    if torch.cuda.is_available():\n",
    "        if not next(model.parameters()).is_cuda:\n",
    "            model = model.cuda()\n",
    "        device = next(model.parameters()).device\n",
    "    # define loss function    \n",
    "    criterion = torch.nn.BCEWithLogitsLoss().to(device)\n",
    "    # alternatively: criterion = nn.MSELoss().to(device)\n",
    "    # define optimizer\n",
    "    optimizer = torch.optim.Adam(\n",
    "        model.parameters(),\n",
    "        lr = config['learning_rate'],\n",
    "        weight_decay = config['l2_reg']\n",
    "    )    \n",
    "    return model, criterion, optimizer, device"
   ]
  },
  {
   "cell_type": "code",
   "execution_count": 53,
   "metadata": {},
   "outputs": [],
   "source": [
    "def train_ae_epoch(loader, model, criterion, optimizer, scheduler=None, masked_loss=False):\n",
    "    model.train()\n",
    "    losses = []\n",
    "    for batch in loader:\n",
    "        optimizer.zero_grad()\n",
    "        dense_batch = batch.to_dense()\n",
    "        predictions = model(dense_batch)\n",
    "\n",
    "        if masked_loss:\n",
    "            mask = dense_batch > 0\n",
    "            loss = criterion(predictions.masked_select(mask), dense_batch.masked_select(mask))\n",
    "        else:\n",
    "            loss = criterion(predictions, dense_batch)\n",
    "\n",
    "        loss = criterion(predictions, dense_batch)\n",
    "        loss.backward()\n",
    "        optimizer.step()\n",
    "        losses.append(loss.item())\n",
    "    \n",
    "    if scheduler is not None:\n",
    "        scheduler.step()\n",
    "    return losses"
   ]
  },
  {
   "cell_type": "code",
   "execution_count": 54,
   "metadata": {},
   "outputs": [],
   "source": [
    "def build_ae_model(config, data, data_description):\n",
    "    '''Simple MF training routine without early stopping'''\n",
    "    model, criterion, optimizer, device = prepare_ae_model(config, data_description)\n",
    "    loader = observations_loader(\n",
    "        observations = matrix_from_data(data, data_description),\n",
    "        batch_size = batch_size, # number of users in the batch\n",
    "        shuffle = True, # return user batches in random order\n",
    "        data_factory = UserBatchDataset,\n",
    "        sparse_batch = True  # can use .to_dense on a batch for calculations\n",
    "    )\n",
    "    losses = {}\n",
    "    for epoch in tqdm(range(config['epochs'])):\n",
    "        losses[epoch] = train_ae_epoch(\n",
    "            loader, model, criterion, optimizer, masked_loss=config['masked_loss']\n",
    "        )\n",
    "    return model, losses"
   ]
  },
  {
   "cell_type": "code",
   "execution_count": 130,
   "metadata": {},
   "outputs": [],
   "source": [
    "config = dict(\n",
    "    dim = 64,\n",
    "    learning_rate = 1e-2,\n",
    "    epochs = 100,\n",
    "    l2_reg = 0, # L2 regularization\n",
    "    masked_loss = True\n",
    ")"
   ]
  },
  {
   "cell_type": "code",
   "execution_count": 131,
   "metadata": {},
   "outputs": [
    {
     "name": "stderr",
     "output_type": "stream",
     "text": [
      "100%|██████████| 100/100 [02:02<00:00,  1.23s/it]\n"
     ]
    }
   ],
   "source": [
    "ae_model, ae_losses = build_ae_model(config, training, data_description)"
   ]
  },
  {
   "cell_type": "code",
   "execution_count": 132,
   "metadata": {},
   "outputs": [
    {
     "data": {
      "image/png": "[encoded data removed]",
      "text/plain": [
       "<Figure size 432x288 with 1 Axes>"
      ]
     },
     "metadata": {
      "needs_background": "light"
     },
     "output_type": "display_data"
    }
   ],
   "source": [
    "pd.Series(ae_losses).apply(np.mean).plot(title='Evolution of AE loss', xlabel='Epoch', ylabel='Loss');"
   ]
  },
  {
   "cell_type": "code",
   "execution_count": 133,
   "metadata": {},
   "outputs": [
    {
     "data": {
      "image/png": "[encoded data removed]",
      "text/plain": [
       "<Figure size 432x288 with 1 Axes>"
      ]
     },
     "metadata": {
      "needs_background": "light"
     },
     "output_type": "display_data"
    }
   ],
   "source": [
    "epoch = 0\n",
    "epoch_loss_series = pd.Series(ae_losses[epoch], name='Loss').rename_axis('batch')\n",
    "ax = epoch_loss_series.reset_index().plot.scatter(\n",
    "    x='batch', y='Loss', title=f'Batch loss at epoch {epoch} '\n",
    ")"
   ]
  },
  {
   "cell_type": "markdown",
   "metadata": {},
   "source": [
    "## Scoring"
   ]
  },
  {
   "cell_type": "code",
   "execution_count": 134,
   "metadata": {},
   "outputs": [],
   "source": [
    "def ae_model_scoring(params, data, data_description):\n",
    "    model = params\n",
    "    model.eval()\n",
    "    # prepare user and item index for scoring\n",
    "    test_matrix = matrix_from_data(\n",
    "        data,\n",
    "        # need to account for the warm-users -> they have new index\n",
    "        # hence, the shape of matrix needs to be set appropriately:\n",
    "        {**data_description, 'n_users': holdout_valid.shape[0]}\n",
    "    )\n",
    "    loader = observations_loader(\n",
    "        observations = test_matrix,\n",
    "        batch_size = batch_size, # number of users in the batch\n",
    "        shuffle = False, # preserve order to ensure alignment with holdout\n",
    "        data_factory = UserBatchDataset,\n",
    "        sparse_batch = True  # can use .to_dense on a batch for calculations\n",
    "    )\n",
    "    # perform scoring on a user-batch level\n",
    "    scores = []\n",
    "    for user_batch in loader:\n",
    "        dense_batch = user_batch.to_dense()\n",
    "        with torch.no_grad():\n",
    "            predictions = model(dense_batch)\n",
    "        scores.append(predictions.detach().cpu().numpy())\n",
    "    return np.concatenate(scores, axis=0)"
   ]
  },
  {
   "cell_type": "code",
   "execution_count": 135,
   "metadata": {},
   "outputs": [],
   "source": [
    "ae_scores = ae_model_scoring(ae_model, testset_valid, data_description)"
   ]
  },
  {
   "cell_type": "code",
   "execution_count": 136,
   "metadata": {},
   "outputs": [],
   "source": [
    "downvote_seen_items(ae_scores, testset_valid, data_description)"
   ]
  },
  {
   "cell_type": "code",
   "execution_count": 137,
   "metadata": {},
   "outputs": [
    {
     "data": {
      "text/plain": [
       "(0.021333333333333333, 0.009012698412698413, 0.1541621029572837)"
      ]
     },
     "execution_count": 137,
     "metadata": {},
     "output_type": "execute_result"
    }
   ],
   "source": [
    "ae_recs = topn_recommendations(ae_scores, topn=10)\n",
    "model_evaluate(ae_recs, holdout_valid, data_description)"
   ]
  },
  {
   "cell_type": "markdown",
   "metadata": {},
   "source": [
    "Vanilla Autoencoders typically perform poorly. To make it work better, one may go several ways.\n",
    "\n",
    "1. Use more complex models, e.g. MultVAE [Liang et al. 2018] or RecVAE [Shenbin et al. 2019].\n",
    "2. Use better representation, e.g. hyperbolic geometry [Mirvakhabova and Frolov et al. 2020].\n",
    "\n",
    "However, even much simpler models like EASEr may provide comparable quality [Steck 2019]."
   ]
  },
  {
   "cell_type": "markdown",
   "metadata": {},
   "source": [
    "# Example of MultVAE model definition"
   ]
  },
  {
   "cell_type": "markdown",
   "metadata": {},
   "source": [
    "Source code adapted form https://github.com/postBG/VAE4REC.pytorch"
   ]
  },
  {
   "cell_type": "code",
   "execution_count": 129,
   "metadata": {},
   "outputs": [],
   "source": [
    "class Decoder(nn.Module):\n",
    "    def __init__(self, p_dims: List[int], dropout: List[float]):\n",
    "        super().__init__()\n",
    "\n",
    "        decoder_layers = []\n",
    "        for i, (p, inp, out) in enumerate(zip(dropout, p_dims[:-1], p_dims[1:])):\n",
    "            decoder_layers.append(f'dropout_{i}', nn.Dropout(p))\n",
    "            decoder_layers.append(f'linear_{i}', nn.Linear(inp, out))\n",
    "        self.p_layers = nn.Sequential(*decoder_layers)\n",
    "\n",
    "    def forward(self, X):\n",
    "        h = X\n",
    "        n_layers = len(self.p_layers)\n",
    "        for i, layer in enumerate(self.p_layers, start=1):\n",
    "            h = layer(h)\n",
    "            if i < n_layers:\n",
    "                h = torch.tanh(h)\n",
    "        return h\n",
    "\n",
    "\n",
    "class VAEEncoder(nn.Module):\n",
    "    def __init__(self, q_dims: List[int], dropout: List[float]):\n",
    "        super().__init__()\n",
    "\n",
    "        self.q_dims = q_dims\n",
    "        q_dims_ = self.q_dims[:-1] + [self.q_dims[-1] * 2]\n",
    "        encoder_layers = []\n",
    "        for i, (p, inp, out) in enumerate(zip(dropout, q_dims_[:-1], q_dims_[1:])):\n",
    "            encoder_layers.append(f'dropout_{i}', nn.Dropout(p))\n",
    "            encoder_layers.append(f'linear_{i}', nn.Linear(inp, out))\n",
    "        self.q_layers = nn.Sequential(*encoder_layers)\n",
    "\n",
    "    def forward(self, X):\n",
    "        h = F.normalize(X, p=2, dim=1)\n",
    "        n_layers = len(self.q_layers)\n",
    "        for i, layer in enumerate(self.q_layers, start=1):\n",
    "            h = layer(h)\n",
    "            if i < n_layers:\n",
    "                h = torch.tanh(h)\n",
    "            else:\n",
    "                mu, logvar = torch.split(h, self.q_dims[-1], dim=1)\n",
    "        return mu, logvar\n",
    "\n",
    "\n",
    "class MultiVAE(nn.Module):\n",
    "    def __init__(\n",
    "        self,\n",
    "        p_dims: List[int],\n",
    "        q_dims: List[int],\n",
    "        dropout_enc: List[float],\n",
    "        dropout_dec: List[float],\n",
    "    ):\n",
    "        super().__init__()\n",
    "\n",
    "        self.encode = VAEEncoder(q_dims, dropout_enc)\n",
    "        self.decode = Decoder(p_dims, dropout_dec)\n",
    "\n",
    "    def forward(self, X):\n",
    "        mu, logvar = self.encode(X)\n",
    "        sampled = mu\n",
    "        if self.training:\n",
    "            std = torch.exp(0.5 * logvar)\n",
    "            eps = torch.randn_like(std)\n",
    "            sampled = sampled + eps * std\n",
    "        return self.decode(sampled), mu, logvar\n"
   ]
  },
  {
   "cell_type": "code",
   "execution_count": null,
   "metadata": {},
   "outputs": [],
   "source": []
  }
 ],
 "metadata": {
  "interpreter": {
   "hash": "e587e8b75394de48c2e2a47def3a5e72a23054844b7abdff48af37dc7e76636d"
  },
  "kernelspec": {
   "display_name": "Python 3.9.10 ('torch')",
   "language": "python",
   "name": "python3"
  },
  "language_info": {
   "codemirror_mode": {
    "name": "ipython",
    "version": 3
   },
   "file_extension": ".py",
   "mimetype": "text/x-python",
   "name": "python",
   "nbconvert_exporter": "python",
   "pygments_lexer": "ipython3",
   "version": "3.9.10"
  },
  "orig_nbformat": 4
 },
 "nbformat": 4,
 "nbformat_minor": 2
}
