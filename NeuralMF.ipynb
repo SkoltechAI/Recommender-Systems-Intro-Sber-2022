{
 "cells": [
  {
   "cell_type": "markdown",
   "metadata": {},
   "source": [
    "# Setting up Colab environment"
   ]
  },
  {
   "cell_type": "code",
   "execution_count": null,
   "metadata": {},
   "outputs": [],
   "source": [
    "import os\n",
    "username = 'SkoltechAI'\n",
    "repo = 'Recommender-Systems-Intro-Sber-2022'\n",
    "\n",
    "# remove local directory if it already exists\n",
    "if os.path.isdir(repo):\n",
    "    !rm -rf {repo}\n",
    "\n",
    "!git clone https://github.com/{username}/{repo}.git"
   ]
  },
  {
   "cell_type": "code",
   "execution_count": null,
   "metadata": {},
   "outputs": [],
   "source": [
    "!git clone https://github.com/evfro/cofida.git\n",
    "!pip install --no-cache-dir --upgrade git+https://github.com/evfro/polara.git@develop#egg=polara"
   ]
  },
  {
   "cell_type": "code",
   "execution_count": 16,
   "metadata": {},
   "outputs": [
    {
     "name": "stdout",
     "output_type": "stream",
     "text": [
      "c:\\Users\\evfro\\github\n",
      "c:\\Users\\evfro\\github\\Recommender-Systems-Intro-Sber-2022\n"
     ]
    }
   ],
   "source": [
    "import pandas as pd\n",
    "import numpy as np\n",
    "from scipy.sparse import csr_matrix\n",
    "from tqdm import tqdm\n",
    "\n",
    "import torch\n",
    "import torch.nn as nn\n",
    "from torch.utils.data import Dataset, DataLoader, RandomSampler, BatchSampler, SequentialSampler\n",
    "import torch.nn.functional as F\n",
    "\n",
    "from polara import get_movielens_data\n",
    "from polara.lib.sampler import sample_element_wise\n",
    "from polara.tools.random import random_seeds, seed_generator\n",
    "from polara.preprocessing.dataframes import leave_one_out, reindex\n",
    "\n",
    "from cofida.datasets import observations_loader, ObservationsDataset, BPRDataset\n",
    "\n",
    "# navigating to cloned repo directory in Colab\n",
    "%cd {repo} \n",
    "from dataprep import transform_indices, matrix_from_data\n",
    "from evaluation import topn_recommendations, model_evaluate, downvote_seen_items\n",
    "# restoring original location\n",
    "%cd -\n"
   ]
  },
  {
   "cell_type": "code",
   "execution_count": 2,
   "metadata": {},
   "outputs": [],
   "source": [
    "def fix_torch_seed(seed):\n",
    "    torch.manual_seed(seed)\n",
    "    torch.cuda.manual_seed_all(seed)"
   ]
  },
  {
   "cell_type": "markdown",
   "metadata": {},
   "source": [
    "# Prepraring data"
   ]
  },
  {
   "cell_type": "code",
   "execution_count": 3,
   "metadata": {},
   "outputs": [],
   "source": [
    "data = get_movielens_data(include_time=True)"
   ]
  },
  {
   "cell_type": "markdown",
   "metadata": {},
   "source": [
    "## data splits"
   ]
  },
  {
   "cell_type": "code",
   "execution_count": 4,
   "metadata": {},
   "outputs": [],
   "source": [
    "rst = np.random.RandomState(111)\n",
    "sampling_args = dict(target='timestamp', sample_top=True, random_state=rst)\n",
    "# final test data\n",
    "training_validation_, holdout_ = leave_one_out(data, **sampling_args)\n",
    "# validation data\n",
    "training_, validation_ = leave_one_out(training_validation_, **sampling_args)"
   ]
  },
  {
   "cell_type": "markdown",
   "metadata": {},
   "source": [
    "## reindexing"
   ]
  },
  {
   "cell_type": "code",
   "execution_count": 5,
   "metadata": {},
   "outputs": [
    {
     "name": "stdout",
     "output_type": "stream",
     "text": [
      "Filtered 3 invalid observations.\n"
     ]
    }
   ],
   "source": [
    "training, data_index = transform_indices(training_, 'userid', 'movieid')\n",
    "# split validation data\n",
    "validation = reindex(validation_, data_index.values(), filter_invalid=True)\n",
    "validation = validation.sort_values('userid')\n",
    "# split final test data\n",
    "holdout = reindex(holdout_, data_index.values(), filter_invalid=True)\n",
    "holdout = holdout.sort_values('userid')"
   ]
  },
  {
   "cell_type": "code",
   "execution_count": 19,
   "metadata": {},
   "outputs": [
    {
     "data": {
      "text/plain": [
       "{'users': 'userid',\n",
       " 'items': 'movieid',\n",
       " 'feedback': None,\n",
       " 'n_users': 6040,\n",
       " 'n_items': 3703,\n",
       " 'test_users': array([   0,    1,    2, ..., 6037, 6038, 6039], dtype=int64)}"
      ]
     },
     "execution_count": 19,
     "metadata": {},
     "output_type": "execute_result"
    }
   ],
   "source": [
    "data_description = dict(\n",
    "    users = data_index['users'].name,\n",
    "    items = data_index['items'].name,\n",
    "    feedback = None,\n",
    "    n_users = len(data_index['users']),\n",
    "    n_items = len(data_index['items']),\n",
    "    test_users = validation[data_index['users'].name].drop_duplicates().values\n",
    ")\n",
    "data_description"
   ]
  },
  {
   "cell_type": "markdown",
   "metadata": {},
   "source": [
    "# Torch DataLoader"
   ]
  },
  {
   "cell_type": "markdown",
   "metadata": {},
   "source": [
    "## Simple (mostly unuseful) example"
   ]
  },
  {
   "cell_type": "markdown",
   "metadata": {},
   "source": [
    "Let's play with the standard API to see the mechanics of torch dataset."
   ]
  },
  {
   "cell_type": "code",
   "execution_count": 7,
   "metadata": {},
   "outputs": [],
   "source": [
    "class NaiveDataset(Dataset):\n",
    "    '''A simple wrapper to iterate over a 2D array of user-item indices'''\n",
    "    def __init__(self, observations, device=None):\n",
    "        super().__init__()\n",
    "        self.data = torch.LongTensor(observations).to(device)\n",
    "        self.size = len(observations)\n",
    "    \n",
    "    def __len__(self):\n",
    "        return self.data.shape[0]\n",
    "\n",
    "    def __getitem__(self, idx):\n",
    "        user, item = self.data[idx]\n",
    "        label = torch.ones_like(user, dtype=torch.float32)\n",
    "        output = {\n",
    "            \"users\": user,\n",
    "            \"items\": item,\n",
    "            \"labels\": label,\n",
    "        }\n",
    "        return output"
   ]
  },
  {
   "cell_type": "code",
   "execution_count": 8,
   "metadata": {},
   "outputs": [],
   "source": [
    "observed_data = training[\n",
    "    [data_description['users'], data_description['items']]\n",
    "]\n",
    "\n",
    "batch_size = 1024\n",
    "\n",
    "naive_dl = DataLoader(\n",
    "    NaiveDataset(observed_data.values, device='cuda'),\n",
    "    batch_size = batch_size, # will use the default collation_fn for gathering batches\n",
    "    drop_last = False,\n",
    "    sampler = None,\n",
    ")"
   ]
  },
  {
   "cell_type": "code",
   "execution_count": 14,
   "metadata": {},
   "outputs": [
    {
     "name": "stdout",
     "output_type": "stream",
     "text": [
      "CPU times: total: 12.8 s\n",
      "Wall time: 1min 10s\n"
     ]
    }
   ],
   "source": [
    "%%time\n",
    "for batch in naive_dl:\n",
    "    pass"
   ]
  },
  {
   "cell_type": "markdown",
   "metadata": {},
   "source": [
    "Pytorch adds a significant overhead on iterations due to its internal index collation."
   ]
  },
  {
   "cell_type": "code",
   "execution_count": 15,
   "metadata": {},
   "outputs": [
    {
     "name": "stdout",
     "output_type": "stream",
     "text": [
      "CPU times: total: 31.2 ms\n",
      "Wall time: 109 ms\n"
     ]
    }
   ],
   "source": [
    "%%time\n",
    "for _, batch in observed_data.groupby(np.arange(len(observed_data))//batch_size):\n",
    "    labels = np.ones(batch.shape[0])\n",
    "    pass"
   ]
  },
  {
   "cell_type": "markdown",
   "metadata": {},
   "source": [
    "We'll deal with this issue later. The major parts that are still missing are:\n",
    "1. data shuffling\n",
    "2. negative sampling\n",
    "\n",
    "Let's fix that."
   ]
  },
  {
   "cell_type": "markdown",
   "metadata": {},
   "source": [
    "## More useful dataset construction"
   ]
  },
  {
   "cell_type": "code",
   "execution_count": 10,
   "metadata": {},
   "outputs": [],
   "source": [
    "class CFDataset(Dataset):\n",
    "    def __init__(self, observations, n_users, n_items, n_samples=None, seed=None):\n",
    "        super().__init__()\n",
    "        self.observations = observations\n",
    "        self.n_users = n_users\n",
    "        self.n_items = n_items\n",
    "        self.data = None # will be extended with negative samples and iterated over\n",
    "        self.seed = seed\n",
    "        # data sampling initialization\n",
    "        self.observations_mat = self.matrix_from_observations()\n",
    "        self.n_samples = n_samples\n",
    "        self._sampler_state = seed_generator(self.seed)\n",
    "        self._shuffle_state = seed_generator(self.seed)\n",
    "        self.shuffle = True\n",
    "        self.reset_dataset()\n",
    "\n",
    "    def reset_random_state(self):\n",
    "        fix_torch_seed(self.seed)\n",
    "        self._sampler_state.send(self.seed)\n",
    "        self._shuffle_state.send(self.seed)\n",
    "\n",
    "    def reset_dataset(self):\n",
    "        '''\n",
    "        This method will be used by pytorch Sampler object.\n",
    "        It initializes dataset with new negative samples and new shuffling of data.\n",
    "        '''\n",
    "        if self.n_samples: # perform negative sampling\n",
    "            negative_examples = self.sample_negatives(next(self._sampler_state))\n",
    "            data = np.concatenate((self.observations, negative_examples), axis=0)\n",
    "            labels = [1] * len(self.observations) + [0] * len(negative_examples)\n",
    "        else: # use original data as is\n",
    "            data = self.observations\n",
    "            labels = [0] * len(self.observations)\n",
    "        \n",
    "        self.data = np.concatenate([data, np.array(labels)[:, np.newaxis]], axis=1)\n",
    "        \n",
    "        if self.shuffle:\n",
    "            random_state = np.random.RandomState(next(self._shuffle_state))\n",
    "            random_state.shuffle(self.data)\n",
    "    \n",
    "    def matrix_from_observations(self):\n",
    "        vals = np.broadcast_to(1, len(self.observations)) # save some space on not storing all 1s\n",
    "        rows = self.observations[:, 0]\n",
    "        cols = self.observations[:, 1]\n",
    "        shape = (self.n_users, self.n_items)\n",
    "        return csr_matrix((vals, (rows, cols)), shape=shape)\n",
    "\n",
    "    def sample_negatives(self, entropy):\n",
    "        '''Perform negative sampling using sparse matrix format.'''\n",
    "        # important note: negative samples must include holdout items as well,\n",
    "        # otherwise the model will be provided with hints about ground truth\n",
    "        samples = sample_element_wise(\n",
    "            # performs uniform sampling of \"unseen\" examples for each known example\n",
    "            indptr = self.observations_mat.indptr,\n",
    "            indices = self.observations_mat.indices,\n",
    "            n_cols = self.n_items,\n",
    "            n_samples = self.n_samples,\n",
    "            seed_seq = random_seeds(self.n_users, entropy=entropy)\n",
    "        )\n",
    "        user_index = np.broadcast_to( # construct user index of comforming shape\n",
    "            np.repeat(\n",
    "                np.arange(self.n_users),\n",
    "                np.diff(self.observations_mat.indptr)\n",
    "            )[:, np.newaxis],\n",
    "            samples.shape\n",
    "        )\n",
    "        negative_samples_array = np.concatenate(\n",
    "            [user_index.flat, samples.flat] # long vector of user and item indices\n",
    "        ).reshape(-1, 2, order='F') # reshape into a table with two columns: users and items\n",
    "        return negative_samples_array\n",
    "\n",
    "    def __len__(self):\n",
    "        return len(self.data)\n",
    "\n",
    "    def __getitem__(self, idx):\n",
    "        user, item, label = self.data[idx]\n",
    "        output = (\n",
    "            np.int64(user),\n",
    "            np.int64(item),\n",
    "            np.float32(label),\n",
    "        )\n",
    "        return output\n",
    "\n",
    "\n",
    "class SamplerWithReset(RandomSampler):\n",
    "    def __iter__(self):\n",
    "        self.data_source.reset_dataset()\n",
    "        return super().__iter__()"
   ]
  },
  {
   "cell_type": "code",
   "execution_count": 11,
   "metadata": {},
   "outputs": [],
   "source": [
    "train_dataset = CFDataset(\n",
    "    observed_data.values,\n",
    "    data_description['n_users'],\n",
    "    data_description['n_items'],\n",
    "    n_samples = 1,\n",
    "    seed = 42\n",
    ")\n",
    "\n",
    "train_dl = DataLoader(\n",
    "    train_dataset,\n",
    "    batch_size = batch_size, # will use the default collation_fn for gathering batches\n",
    "    drop_last = False,\n",
    "    sampler = SamplerWithReset(train_dataset),\n",
    ")"
   ]
  },
  {
   "cell_type": "markdown",
   "metadata": {},
   "source": [
    "Remark: The default `collate_fn` function gathers batches entry-by-entry, it is an IO-bound procedure. Hence, it is more appropriate for ANN's with heavy computations, e.g. a CNN trained on an image dataset. In that case the overhead to gather a batch is small comparing to the compute time.\n",
    "\n",
    "However, in the recsys case with simple MF-like models, computations are lightweight and the time spent inside `collate_fn` dominates, see [this issue](https://github.com/pytorch/pytorch/issues/21645) for more details. A viable workaround for not too large datasets is to create a custom dataloader which doesn't rely on `collate_fn` and performs sampling more efficiently in a vectorized form. For example, see [cofida](https://github.com/evfro/cofida) library."
   ]
  },
  {
   "cell_type": "code",
   "execution_count": 18,
   "metadata": {},
   "outputs": [],
   "source": [
    "for batch in train_dl:\n",
    "    break"
   ]
  },
  {
   "cell_type": "code",
   "execution_count": 19,
   "metadata": {},
   "outputs": [
    {
     "data": {
      "text/plain": [
       "{'users': tensor([1805, 1496,    9,  ..., 2354, 1386, 4639]),\n",
       " 'items': tensor([2489, 3530,  537,  ..., 2328,  580,  569]),\n",
       " 'labels': tensor([1., 0., 1.,  ..., 0., 1., 0.])}"
      ]
     },
     "execution_count": 19,
     "metadata": {},
     "output_type": "execute_result"
    }
   ],
   "source": [
    "batch"
   ]
  },
  {
   "cell_type": "markdown",
   "metadata": {},
   "source": [
    "## Dataset with fast batch iterations based on `cofida`"
   ]
  },
  {
   "cell_type": "code",
   "execution_count": 20,
   "metadata": {},
   "outputs": [
    {
     "name": "stderr",
     "output_type": "stream",
     "text": [
      "c:\\Users\\evfro\\github\\cofida\\datasets.py:250: UserWarning: The given NumPy array is not writeable, and PyTorch does not support non-writeable tensors. This means you can write to the underlying (supposedly non-writeable) NumPy array using the tensor. You may want to copy the array to protect its data or make it writeable before converting it to a tensor. This type of warning will be suppressed for the rest of this program. (Triggered internally at  ..\\torch\\csrc\\utils\\tensor_numpy.cpp:189.)\n",
      "  neg_users = torch.cuda.LongTensor(users.ravel())\n"
     ]
    }
   ],
   "source": [
    "fast_data_loader = observations_loader(\n",
    "    matrix_from_data(observed_data, data_description),\n",
    "    batch_size = batch_size,\n",
    "    n_neg_samples = 1,\n",
    "    data_factory = ObservationsDataset\n",
    ")"
   ]
  },
  {
   "cell_type": "code",
   "execution_count": null,
   "metadata": {},
   "outputs": [
    {
     "name": "stdout",
     "output_type": "stream",
     "text": [
      "CPU times: total: 28.1 s\n",
      "Wall time: 5.62 s\n"
     ]
    }
   ],
   "source": [
    "%%time\n",
    "for batch in fast_data_loader:\n",
    "    pass"
   ]
  },
  {
   "cell_type": "code",
   "execution_count": null,
   "metadata": {},
   "outputs": [
    {
     "data": {
      "text/plain": [
       "[tensor([  64, 1052, 1715,  ..., 1551, 1397, 4509], device='cuda:0'),\n",
       " tensor([ 568, 2515, 2658,  ..., 3562, 3683, 1827], device='cuda:0'),\n",
       " tensor([0., 1., 0.,  ..., 1., 1., 0.], device='cuda:0')]"
      ]
     },
     "metadata": {},
     "output_type": "display_data"
    }
   ],
   "source": [
    "batch"
   ]
  },
  {
   "cell_type": "markdown",
   "metadata": {},
   "source": [
    "# Training boilerplate"
   ]
  },
  {
   "cell_type": "code",
   "execution_count": 30,
   "metadata": {},
   "outputs": [],
   "source": [
    "def train_mf_epoch(\n",
    "    loader, model, criterion, optimizer, scheduler=None,\n",
    "    device=None, batch_to_tensor=True\n",
    "):\n",
    "    model.train()\n",
    "    losses = []\n",
    "    for (users, items, labels) in loader:\n",
    "        if batch_to_tensor:\n",
    "            users = torch.LongTensor(users).to(device)\n",
    "            items = torch.LongTensor(items).to(device)\n",
    "            labels = torch.FloatTensor(labels).to(device)\n",
    "        \n",
    "        optimizer.zero_grad()\n",
    "        loss = criterion(model(users, items), labels)\n",
    "        loss.backward()\n",
    "        optimizer.step()\n",
    "        losses.append(loss.detach().cpu().item())\n",
    "    \n",
    "    if scheduler is not None:\n",
    "        scheduler.step()\n",
    "    return losses"
   ]
  },
  {
   "cell_type": "markdown",
   "metadata": {},
   "source": [
    "# Matrix Factorization models"
   ]
  },
  {
   "cell_type": "code",
   "execution_count": 13,
   "metadata": {},
   "outputs": [],
   "source": [
    "class MFBase(nn.Module):\n",
    "    def __init__(self, user_num, item_num, embedding_dim):\n",
    "        super().__init__()\n",
    "        self.user_embeddings = nn.Embedding(user_num, embedding_dim)\n",
    "        self.item_embeddings = nn.Embedding(item_num, embedding_dim)\n",
    "        self.initialize()\n",
    "\n",
    "    def initialize(self):\n",
    "        for name, param in self.named_parameters():\n",
    "            if \"weight\" in name:\n",
    "                nn.init.xavier_uniform_(param.data)\n",
    "            elif \"bias\" in name:\n",
    "                param.data.normal_(std=0.001)\n",
    "\n",
    "\n",
    "class SimpleMF(MFBase):\n",
    "    def forward(self, user, item):\n",
    "        user_embedding = self.user_embeddings(user)\n",
    "        item_embedding = self.item_embeddings(item)\n",
    "        matmul = torch.sum(user_embedding * item_embedding, -1)\n",
    "        return matmul.view(-1)\n",
    "\n",
    "\n",
    "class CosineDistanceMF(MFBase):\n",
    "    def forward(self, user, item):\n",
    "        user_embedding = self.user_embeddings(user)\n",
    "        item_embedding = self.item_embeddings(item)\n",
    "\n",
    "        user_embedding = F.normalize(user_embedding)\n",
    "        item_embedding = F.normalize(item_embedding)\n",
    "        sim = (user_embedding * item_embedding).sum(1)\n",
    "        return sim.view(-1)"
   ]
  },
  {
   "cell_type": "markdown",
   "metadata": {},
   "source": [
    "## Training"
   ]
  },
  {
   "cell_type": "code",
   "execution_count": 33,
   "metadata": {},
   "outputs": [],
   "source": [
    "def prepare_mf_model(config, data_description):\n",
    "    model = SimpleMF(\n",
    "        data_description['n_users'],\n",
    "        data_description['n_items'],\n",
    "        config['dim']\n",
    "    )\n",
    "    # transfer model to GPU if available\n",
    "    device = None\n",
    "    if torch.cuda.is_available():\n",
    "        if not next(model.parameters()).is_cuda:\n",
    "            model = model.cuda()\n",
    "        device = next(model.parameters()).device\n",
    "    # define loss function    \n",
    "    criterion = torch.nn.BCEWithLogitsLoss()\n",
    "    if device is not None:\n",
    "        criterion = criterion.cuda()\n",
    "    # define optimizer\n",
    "    optimizer = torch.optim.Adam(\n",
    "        model.parameters(),\n",
    "        lr = config['learning_rate'],\n",
    "        weight_decay = config['l2_reg']\n",
    "    )    \n",
    "    return model, criterion, optimizer, device"
   ]
  },
  {
   "cell_type": "code",
   "execution_count": 28,
   "metadata": {},
   "outputs": [],
   "source": [
    "config = dict(\n",
    "    dim = 64,\n",
    "    learning_rate = 1e-2,\n",
    "    epochs = 20,\n",
    "    l2_reg = 0 # L2 regularization\n",
    ")"
   ]
  },
  {
   "cell_type": "code",
   "execution_count": 34,
   "metadata": {},
   "outputs": [],
   "source": [
    "def build_mf_model(config, data, data_description):\n",
    "    '''Simple MF training routine without early stopping'''\n",
    "    model, criterion, optimizer, device = prepare_mf_model(config, data_description)\n",
    "    data_loader = observations_loader(\n",
    "        matrix_from_data(data, data_description),\n",
    "        batch_size = batch_size,\n",
    "        n_neg_samples = 1,\n",
    "        data_factory = ObservationsDataset\n",
    "    )\n",
    "    losses = {}\n",
    "    for epoch in tqdm(range(config['epochs'])):\n",
    "        losses[epoch] = train_mf_epoch(\n",
    "            data_loader, model, criterion, optimizer,\n",
    "            device=device, batch_to_tensor=False\n",
    "    )\n",
    "    return model, losses"
   ]
  },
  {
   "cell_type": "code",
   "execution_count": 35,
   "metadata": {},
   "outputs": [
    {
     "name": "stderr",
     "output_type": "stream",
     "text": [
      "100%|██████████| 20/20 [04:36<00:00, 13.81s/it]\n"
     ]
    }
   ],
   "source": [
    "mf_model, mf_losses = build_mf_model(config, observed_data, data_description)"
   ]
  },
  {
   "cell_type": "code",
   "execution_count": 134,
   "metadata": {},
   "outputs": [
    {
     "data": {
      "image/png": "[encoded data removed]",
      "text/plain": [
       "<Figure size 432x288 with 1 Axes>"
      ]
     },
     "metadata": {
      "needs_background": "light"
     },
     "output_type": "display_data"
    }
   ],
   "source": [
    "pd.Series(mf_losses).apply(np.mean).plot(title='Evolution of MF loss', xlabel='Epoch', ylabel='Loss');"
   ]
  },
  {
   "cell_type": "code",
   "execution_count": 37,
   "metadata": {},
   "outputs": [
    {
     "data": {
      "image/png": "[encoded data removed]",
      "text/plain": [
       "<Figure size 432x288 with 1 Axes>"
      ]
     },
     "metadata": {
      "needs_background": "light"
     },
     "output_type": "display_data"
    }
   ],
   "source": [
    "epoch = 0\n",
    "epoch_loss_series = pd.Series(mf_losses[epoch], name='Loss').rename_axis('batch')\n",
    "ax = epoch_loss_series.reset_index().plot.scatter(\n",
    "    x='batch', y='Loss', title=f'Batch loss at epoch {epoch} '\n",
    ")\n",
    "epoch_loss_series.rolling(50).mean().reset_index().plot(\n",
    "    ax=ax, x='batch', y='Loss', color='r', label='Rolling loss'\n",
    ");\n"
   ]
  },
  {
   "cell_type": "markdown",
   "metadata": {},
   "source": [
    "## Scoring"
   ]
  },
  {
   "cell_type": "code",
   "execution_count": 105,
   "metadata": {},
   "outputs": [],
   "source": [
    "def mf_model_scoring(params, data, data_description):\n",
    "    model = params\n",
    "    model.eval()\n",
    "    # prepare user and item index for scoring\n",
    "    device = next(model.parameters()).device\n",
    "    test_users = data_description['test_users']\n",
    "    n_items = data_description['n_items']\n",
    "    all_items = torch.arange(n_items, dtype=torch.int64, device=device)\n",
    "    # perform scoring on a per-user basis\n",
    "    scores = np.empty((len(test_users), n_items), dtype='f4')\n",
    "    for user in test_users:\n",
    "        test_user = torch.broadcast_to(torch.LongTensor([user]), (n_items,)).to(device)\n",
    "        with torch.no_grad():\n",
    "            predictions = model(test_user, all_items)\n",
    "            scores[user, :] = predictions.detach().cpu().numpy()\n",
    "    return scores"
   ]
  },
  {
   "cell_type": "code",
   "execution_count": 107,
   "metadata": {},
   "outputs": [],
   "source": [
    "mf_scores = mf_model_scoring(mf_model, None, data_description)"
   ]
  },
  {
   "cell_type": "markdown",
   "metadata": {},
   "source": [
    "## Evaluation"
   ]
  },
  {
   "cell_type": "code",
   "execution_count": 106,
   "metadata": {},
   "outputs": [],
   "source": [
    "seen_data = training.loc[lambda x: x[data_index[\"users\"].name].isin(data_description[\"test_users\"])]"
   ]
  },
  {
   "cell_type": "code",
   "execution_count": 108,
   "metadata": {},
   "outputs": [],
   "source": [
    "downvote_seen_items(mf_scores, seen_data, data_description)"
   ]
  },
  {
   "cell_type": "code",
   "execution_count": 109,
   "metadata": {},
   "outputs": [
    {
     "data": {
      "text/plain": [
       "(0.05562913907284768, 0.017044307789340903, 0.8865784499054821)"
      ]
     },
     "execution_count": 109,
     "metadata": {},
     "output_type": "execute_result"
    }
   ],
   "source": [
    "mf_recs = topn_recommendations(mf_scores, topn=10)\n",
    "model_evaluate(mf_recs, validation, data_description)"
   ]
  },
  {
   "cell_type": "markdown",
   "metadata": {},
   "source": [
    "# Bayesian Personalized Ranking"
   ]
  },
  {
   "cell_type": "code",
   "execution_count": 113,
   "metadata": {},
   "outputs": [],
   "source": [
    "class BPRMF(MFBase):\n",
    "    def forward(self, user, pos_item, neg_item=None):\n",
    "        user = self.user_embeddings(user)\n",
    "        pos_item = self.item_embeddings(pos_item)\n",
    "        prediction_i = (user * pos_item).sum(dim=-1)\n",
    "        if not self.training:  # support validation phase\n",
    "            return prediction_i\n",
    "\n",
    "        neg_item = self.item_embeddings(neg_item)\n",
    "        prediction_j = (user * neg_item).sum(dim=-1)\n",
    "        return prediction_i, prediction_j"
   ]
  },
  {
   "cell_type": "code",
   "execution_count": 114,
   "metadata": {},
   "outputs": [],
   "source": [
    "bpr_data_loader = observations_loader(\n",
    "    matrix_from_data(observed_data, data_description),\n",
    "    batch_size=batch_size,\n",
    "    n_neg_samples=1,\n",
    "    data_factory=BPRDataset\n",
    ")"
   ]
  },
  {
   "cell_type": "code",
   "execution_count": 115,
   "metadata": {},
   "outputs": [
    {
     "data": {
      "text/plain": [
       "[tensor([4999, 1363, 2532,  ..., 5642,  720, 2084], device='cuda:0'),\n",
       " tensor([3348, 2460,   99,  ..., 3128, 2699, 1363], device='cuda:0'),\n",
       " tensor([3562, 1371, 3630,  ..., 1339, 1032,  273], device='cuda:0')]"
      ]
     },
     "execution_count": 115,
     "metadata": {},
     "output_type": "execute_result"
    }
   ],
   "source": [
    "batch = next(iter(bpr_data_loader))\n",
    "batch"
   ]
  },
  {
   "cell_type": "markdown",
   "metadata": {},
   "source": [
    "## Training"
   ]
  },
  {
   "cell_type": "code",
   "execution_count": 126,
   "metadata": {},
   "outputs": [],
   "source": [
    "def train_bprmf_epoch(loader, model, criterion, optimizer, scheduler=None):\n",
    "    model.train()\n",
    "    losses = []\n",
    "    \n",
    "    for (users, pos_items, neg_items) in loader:\n",
    "        optimizer.zero_grad()\n",
    "        loss = criterion(*model(users, pos_items, neg_items))\n",
    "        loss.backward()\n",
    "        optimizer.step()\n",
    "        losses.append(loss.detach().cpu().item())\n",
    "    \n",
    "    if scheduler is not None:\n",
    "        scheduler.step()\n",
    "    return losses"
   ]
  },
  {
   "cell_type": "code",
   "execution_count": 127,
   "metadata": {},
   "outputs": [],
   "source": [
    "def prepare_bprmf_model(config, data_description):\n",
    "    model = BPRMF(\n",
    "        data_description['n_users'],\n",
    "        data_description['n_items'],\n",
    "        config['dim']\n",
    "    )\n",
    "    # transfer model to GPU if available\n",
    "    device = None\n",
    "    if torch.cuda.is_available():\n",
    "        if not next(model.parameters()).is_cuda:\n",
    "            model = model.cuda()\n",
    "        device = next(model.parameters()).device\n",
    "    # define loss function\n",
    "    logsigmoid = nn.LogSigmoid().to(device)\n",
    "    def criterion(pred_i, pred_j):\n",
    "        return -logsigmoid(pred_i - pred_j).sum()\n",
    "    # define optimizer\n",
    "    optimizer = torch.optim.Adam(\n",
    "        model.parameters(),\n",
    "        lr = config['learning_rate'],\n",
    "        weight_decay=config['l2_reg']\n",
    "    )\n",
    "    return model, criterion, optimizer, device\n",
    "\n",
    "\n",
    "def build_bprmf_model(config, data, data_description):\n",
    "    '''Simple BPRMF training routine without early stopping'''\n",
    "    model, criterion, optimizer, device = prepare_bprmf_model(config, data_description)\n",
    "    data_loader = observations_loader(\n",
    "        matrix_from_data(data, data_description),\n",
    "        batch_size = batch_size,\n",
    "        n_neg_samples = 1,\n",
    "        data_factory = BPRDataset\n",
    "    )\n",
    "    \n",
    "    losses = {}\n",
    "    for epoch in tqdm(range(config['epochs'])):\n",
    "        losses[epoch] = train_bprmf_epoch(data_loader, model, criterion, optimizer)\n",
    "    return model, losses"
   ]
  },
  {
   "cell_type": "code",
   "execution_count": 128,
   "metadata": {},
   "outputs": [
    {
     "name": "stderr",
     "output_type": "stream",
     "text": [
      "100%|██████████| 20/20 [03:32<00:00, 10.65s/it]\n"
     ]
    }
   ],
   "source": [
    "bpr_model, bpr_losses = build_bprmf_model(config, observed_data, data_description)"
   ]
  },
  {
   "cell_type": "code",
   "execution_count": 133,
   "metadata": {},
   "outputs": [
    {
     "data": {
      "image/png": "[encoded data removed]",
      "text/plain": [
       "<Figure size 432x288 with 1 Axes>"
      ]
     },
     "metadata": {
      "needs_background": "light"
     },
     "output_type": "display_data"
    }
   ],
   "source": [
    "pd.Series(bpr_losses).apply(np.mean).plot(title='Evolution of BPRMF loss', xlabel='Epoch', ylabel='BPR Loss');"
   ]
  },
  {
   "cell_type": "code",
   "execution_count": 131,
   "metadata": {},
   "outputs": [
    {
     "data": {
      "image/png": "[encoded data removed]",
      "text/plain": [
       "<Figure size 432x288 with 1 Axes>"
      ]
     },
     "metadata": {
      "needs_background": "light"
     },
     "output_type": "display_data"
    }
   ],
   "source": [
    "epoch = 0\n",
    "epoch_loss_series = pd.Series(bpr_losses[epoch], name='BPR Loss').rename_axis('batch')\n",
    "ax = epoch_loss_series.reset_index().plot.scatter(\n",
    "    x='batch', y='BPR Loss', title=f'Batch loss at epoch {epoch} '\n",
    ")\n",
    "epoch_loss_series.rolling(10).mean().reset_index().plot(\n",
    "    ax=ax, x='batch', y='BPR Loss', color='r', label='Rolling loss'\n",
    ");\n"
   ]
  },
  {
   "cell_type": "markdown",
   "metadata": {},
   "source": [
    "## Scoring"
   ]
  },
  {
   "cell_type": "code",
   "execution_count": 139,
   "metadata": {},
   "outputs": [
    {
     "ename": "TypeError",
     "evalue": "forward() missing 1 required positional argument: 'neg_item'",
     "output_type": "error",
     "traceback": [
      "\u001b[1;31m---------------------------------------------------------------------------\u001b[0m",
      "\u001b[1;31mTypeError\u001b[0m                                 Traceback (most recent call last)",
      "\u001b[1;32mc:\\Users\\evfro\\github\\Recommender-Systems-Intro-Sber-2022\\NeuralMF.ipynb Cell 61'\u001b[0m in \u001b[0;36m<cell line: 1>\u001b[1;34m()\u001b[0m\n\u001b[1;32m----> <a href='vscode-notebook-cell:/c%3A/Users/evfro/github/Recommender-Systems-Intro-Sber-2022/NeuralMF.ipynb#ch0000129?line=0'>1</a>\u001b[0m bprmf_scores \u001b[39m=\u001b[39m mf_model_scoring(bpr_model, \u001b[39mNone\u001b[39;49;00m, data_description)\n",
      "\u001b[1;32mc:\\Users\\evfro\\github\\Recommender-Systems-Intro-Sber-2022\\NeuralMF.ipynb Cell 44'\u001b[0m in \u001b[0;36mmf_model_scoring\u001b[1;34m(params, data, data_description)\u001b[0m\n\u001b[0;32m     <a href='vscode-notebook-cell:/c%3A/Users/evfro/github/Recommender-Systems-Intro-Sber-2022/NeuralMF.ipynb#ch0000091?line=11'>12</a>\u001b[0m     useridx \u001b[39m=\u001b[39m torch\u001b[39m.\u001b[39mbroadcast_to(torch\u001b[39m.\u001b[39mLongTensor([user]), (n_items,))\u001b[39m.\u001b[39mto(device)\n\u001b[0;32m     <a href='vscode-notebook-cell:/c%3A/Users/evfro/github/Recommender-Systems-Intro-Sber-2022/NeuralMF.ipynb#ch0000091?line=12'>13</a>\u001b[0m     \u001b[39mwith\u001b[39;00m torch\u001b[39m.\u001b[39mno_grad():\n\u001b[1;32m---> <a href='vscode-notebook-cell:/c%3A/Users/evfro/github/Recommender-Systems-Intro-Sber-2022/NeuralMF.ipynb#ch0000091?line=13'>14</a>\u001b[0m         predictions \u001b[39m=\u001b[39m model(useridx, itemidx)\n\u001b[0;32m     <a href='vscode-notebook-cell:/c%3A/Users/evfro/github/Recommender-Systems-Intro-Sber-2022/NeuralMF.ipynb#ch0000091?line=14'>15</a>\u001b[0m         scores[user, :] \u001b[39m=\u001b[39m predictions\u001b[39m.\u001b[39mdetach()\u001b[39m.\u001b[39mcpu()\u001b[39m.\u001b[39mnumpy()\n\u001b[0;32m     <a href='vscode-notebook-cell:/c%3A/Users/evfro/github/Recommender-Systems-Intro-Sber-2022/NeuralMF.ipynb#ch0000091?line=15'>16</a>\u001b[0m \u001b[39mreturn\u001b[39;00m scores\n",
      "File \u001b[1;32mc:\\Users\\evfro\\mambaforge\\envs\\torch\\lib\\site-packages\\torch\\nn\\modules\\module.py:1102\u001b[0m, in \u001b[0;36mModule._call_impl\u001b[1;34m(self, *input, **kwargs)\u001b[0m\n\u001b[0;32m   <a href='file:///c%3A/Users/evfro/mambaforge/envs/torch/lib/site-packages/torch/nn/modules/module.py?line=1097'>1098</a>\u001b[0m \u001b[39m# If we don't have any hooks, we want to skip the rest of the logic in\u001b[39;00m\n\u001b[0;32m   <a href='file:///c%3A/Users/evfro/mambaforge/envs/torch/lib/site-packages/torch/nn/modules/module.py?line=1098'>1099</a>\u001b[0m \u001b[39m# this function, and just call forward.\u001b[39;00m\n\u001b[0;32m   <a href='file:///c%3A/Users/evfro/mambaforge/envs/torch/lib/site-packages/torch/nn/modules/module.py?line=1099'>1100</a>\u001b[0m \u001b[39mif\u001b[39;00m \u001b[39mnot\u001b[39;00m (\u001b[39mself\u001b[39m\u001b[39m.\u001b[39m_backward_hooks \u001b[39mor\u001b[39;00m \u001b[39mself\u001b[39m\u001b[39m.\u001b[39m_forward_hooks \u001b[39mor\u001b[39;00m \u001b[39mself\u001b[39m\u001b[39m.\u001b[39m_forward_pre_hooks \u001b[39mor\u001b[39;00m _global_backward_hooks\n\u001b[0;32m   <a href='file:///c%3A/Users/evfro/mambaforge/envs/torch/lib/site-packages/torch/nn/modules/module.py?line=1100'>1101</a>\u001b[0m         \u001b[39mor\u001b[39;00m _global_forward_hooks \u001b[39mor\u001b[39;00m _global_forward_pre_hooks):\n\u001b[1;32m-> <a href='file:///c%3A/Users/evfro/mambaforge/envs/torch/lib/site-packages/torch/nn/modules/module.py?line=1101'>1102</a>\u001b[0m     \u001b[39mreturn\u001b[39;00m forward_call(\u001b[39m*\u001b[39m\u001b[39minput\u001b[39m, \u001b[39m*\u001b[39m\u001b[39m*\u001b[39mkwargs)\n\u001b[0;32m   <a href='file:///c%3A/Users/evfro/mambaforge/envs/torch/lib/site-packages/torch/nn/modules/module.py?line=1102'>1103</a>\u001b[0m \u001b[39m# Do not call functions when jit is used\u001b[39;00m\n\u001b[0;32m   <a href='file:///c%3A/Users/evfro/mambaforge/envs/torch/lib/site-packages/torch/nn/modules/module.py?line=1103'>1104</a>\u001b[0m full_backward_hooks, non_full_backward_hooks \u001b[39m=\u001b[39m [], []\n",
      "\u001b[1;31mTypeError\u001b[0m: forward() missing 1 required positional argument: 'neg_item'"
     ]
    }
   ],
   "source": [
    "bprmf_scores = mf_model_scoring(bpr_model, None, data_description)"
   ]
  },
  {
   "cell_type": "markdown",
   "metadata": {},
   "source": [
    "## Evaluation"
   ]
  },
  {
   "cell_type": "code",
   "execution_count": 136,
   "metadata": {},
   "outputs": [],
   "source": [
    "seen_data = training.loc[lambda x: x[data_index[\"users\"].name].isin(data_description[\"test_users\"])]"
   ]
  },
  {
   "cell_type": "code",
   "execution_count": 137,
   "metadata": {},
   "outputs": [],
   "source": [
    "downvote_seen_items(mf_scores, seen_data, data_description)"
   ]
  },
  {
   "cell_type": "code",
   "execution_count": 138,
   "metadata": {},
   "outputs": [
    {
     "data": {
      "text/plain": [
       "(0.05562913907284768, 0.017044307789340903, 0.8865784499054821)"
      ]
     },
     "execution_count": 138,
     "metadata": {},
     "output_type": "execute_result"
    }
   ],
   "source": [
    "mf_recs = topn_recommendations(mf_scores, topn=10)\n",
    "model_evaluate(mf_recs, validation, data_description)"
   ]
  },
  {
   "cell_type": "markdown",
   "metadata": {},
   "source": [
    "# NeuralCF"
   ]
  },
  {
   "cell_type": "code",
   "execution_count": null,
   "metadata": {},
   "outputs": [],
   "source": [
    "class NCF(nn.Module):\n",
    "    '''\n",
    "    The source for NCF code is taken form https://github.com/guoyang9/NCF.\n",
    "    '''\n",
    "    def __init__(\n",
    "        self,\n",
    "        user_num,\n",
    "        item_num,\n",
    "        factor_num,\n",
    "        num_layers,\n",
    "        dropout,\n",
    "        model,\n",
    "        GMF_model=None,\n",
    "        MLP_model=None,\n",
    "    ):\n",
    "        super(NCF, self).__init__()\n",
    "        \"\"\"\n",
    "        user_num: number of users;\n",
    "        item_num: number of items;\n",
    "        factor_num: number of predictive factors;\n",
    "        num_layers: the number of layers in MLP model;\n",
    "        dropout: dropout rate between fully connected layers;\n",
    "        model: 'MLP', 'GMF', 'NeuMF-end', and 'NeuMF-pre';\n",
    "        GMF_model: pre-trained GMF weights;\n",
    "        MLP_model: pre-trained MLP weights.\n",
    "        \"\"\"\n",
    "        self.dropout = dropout\n",
    "        self.model = model\n",
    "        self.GMF_model = GMF_model\n",
    "        self.MLP_model = MLP_model\n",
    "\n",
    "        self.embed_user_GMF = nn.Embedding(user_num, factor_num)\n",
    "        self.embed_item_GMF = nn.Embedding(item_num, factor_num)\n",
    "        self.embed_user_MLP = nn.Embedding(\n",
    "            user_num, factor_num * (2 ** (num_layers - 1))\n",
    "        )\n",
    "        self.embed_item_MLP = nn.Embedding(\n",
    "            item_num, factor_num * (2 ** (num_layers - 1))\n",
    "        )\n",
    "\n",
    "        MLP_modules = []\n",
    "        for i in range(num_layers):\n",
    "            input_size = factor_num * (2 ** (num_layers - i))\n",
    "            MLP_modules.append(nn.Dropout(p=self.dropout))\n",
    "            MLP_modules.append(nn.Linear(input_size, input_size // 2))\n",
    "            MLP_modules.append(nn.ReLU())\n",
    "        self.MLP_layers = nn.Sequential(*MLP_modules)\n",
    "\n",
    "        if self.model in [\"MLP\", \"GMF\"]:\n",
    "            predict_size = factor_num\n",
    "        else:\n",
    "            predict_size = factor_num * 2\n",
    "        self.predict_layer = nn.Linear(predict_size, 1)\n",
    "\n",
    "        self._init_weight_()\n",
    "\n",
    "    def _init_weight_(self):\n",
    "        \"\"\" We leave the weights initialization here. \"\"\"\n",
    "        if not self.model == \"NeuMF-pre\":\n",
    "            nn.init.normal_(self.embed_user_GMF.weight, std=0.01)\n",
    "            nn.init.normal_(self.embed_user_MLP.weight, std=0.01)\n",
    "            nn.init.normal_(self.embed_item_GMF.weight, std=0.01)\n",
    "            nn.init.normal_(self.embed_item_MLP.weight, std=0.01)\n",
    "\n",
    "            for m in self.MLP_layers:\n",
    "                if isinstance(m, nn.Linear):\n",
    "                    nn.init.xavier_uniform_(m.weight)\n",
    "            nn.init.kaiming_uniform_(\n",
    "                self.predict_layer.weight, a=1, nonlinearity=\"sigmoid\"\n",
    "            )\n",
    "\n",
    "            for m in self.modules():\n",
    "                if isinstance(m, nn.Linear) and m.bias is not None:\n",
    "                    m.bias.data.zero_()\n",
    "        else:\n",
    "            # embedding layers\n",
    "            self.embed_user_GMF.weight.data.copy_(self.GMF_model.embed_user_GMF.weight)\n",
    "            self.embed_item_GMF.weight.data.copy_(self.GMF_model.embed_item_GMF.weight)\n",
    "            self.embed_user_MLP.weight.data.copy_(self.MLP_model.embed_user_MLP.weight)\n",
    "            self.embed_item_MLP.weight.data.copy_(self.MLP_model.embed_item_MLP.weight)\n",
    "\n",
    "            # mlp layers\n",
    "            for (m1, m2) in zip(self.MLP_layers, self.MLP_model.MLP_layers):\n",
    "                if isinstance(m1, nn.Linear) and isinstance(m2, nn.Linear):\n",
    "                    m1.weight.data.copy_(m2.weight)\n",
    "                    m1.bias.data.copy_(m2.bias)\n",
    "\n",
    "            # predict layers\n",
    "            predict_weight = torch.cat(\n",
    "                [\n",
    "                    self.GMF_model.predict_layer.weight,\n",
    "                    self.MLP_model.predict_layer.weight,\n",
    "                ],\n",
    "                dim=1,\n",
    "            )\n",
    "            precit_bias = (\n",
    "                self.GMF_model.predict_layer.bias + self.MLP_model.predict_layer.bias\n",
    "            )\n",
    "\n",
    "            self.predict_layer.weight.data.copy_(0.5 * predict_weight)\n",
    "            self.predict_layer.bias.data.copy_(0.5 * precit_bias)\n",
    "\n",
    "    def forward(self, user, item):\n",
    "        if not self.model == \"MLP\":\n",
    "            embed_user_GMF = self.embed_user_GMF(user)\n",
    "            embed_item_GMF = self.embed_item_GMF(item)\n",
    "            output_GMF = embed_user_GMF * embed_item_GMF\n",
    "        if not self.model == \"GMF\":\n",
    "            embed_user_MLP = self.embed_user_MLP(user)\n",
    "            embed_item_MLP = self.embed_item_MLP(item)\n",
    "            interaction = torch.cat((embed_user_MLP, embed_item_MLP), -1)\n",
    "            output_MLP = self.MLP_layers(interaction)\n",
    "\n",
    "        if self.model == \"GMF\":\n",
    "            concat = output_GMF\n",
    "        elif self.model == \"MLP\":\n",
    "            concat = output_MLP\n",
    "        else:\n",
    "            concat = torch.cat((output_GMF, output_MLP), -1)\n",
    "\n",
    "        prediction = self.predict_layer(concat)\n",
    "        return prediction.view(-1)\n"
   ]
  }
 ],
 "metadata": {
  "interpreter": {
   "hash": "e587e8b75394de48c2e2a47def3a5e72a23054844b7abdff48af37dc7e76636d"
  },
  "kernelspec": {
   "display_name": "Python 3.9.10 ('torch')",
   "language": "python",
   "name": "python3"
  },
  "language_info": {
   "codemirror_mode": {
    "name": "ipython",
    "version": 3
   },
   "file_extension": ".py",
   "mimetype": "text/x-python",
   "name": "python",
   "nbconvert_exporter": "python",
   "pygments_lexer": "ipython3",
   "version": "3.9.10"
  },
  "orig_nbformat": 4
 },
 "nbformat": 4,
 "nbformat_minor": 2
}
